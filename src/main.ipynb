{
  "nbformat": 4,
  "nbformat_minor": 0,
  "metadata": {
    "colab": {
      "provenance": [],
      "authorship_tag": "ABX9TyN5uUdr6Dvu2jd1ly5NHsDs",
      "include_colab_link": true
    },
    "kernelspec": {
      "name": "python3",
      "display_name": "Python 3"
    },
    "language_info": {
      "name": "python"
    }
  },
  "cells": [
    {
      "cell_type": "markdown",
      "metadata": {
        "id": "view-in-github",
        "colab_type": "text"
      },
      "source": [
        "<a href=\"https://colab.research.google.com/github/Knaut-007/GeneticAlgorithm-VRP/blob/main/src/main.ipynb\" target=\"_parent\"><img src=\"https://colab.research.google.com/assets/colab-badge.svg\" alt=\"Open In Colab\"/></a>"
      ]
    },
    {
      "cell_type": "code",
      "execution_count": 2,
      "metadata": {
        "id": "uY2n6asnp1rZ",
        "colab": {
          "base_uri": "https://localhost:8080/"
        },
        "outputId": "20a387be-4669-4ba8-deac-c1d71c464777"
      },
      "outputs": [
        {
          "output_type": "stream",
          "name": "stdout",
          "text": [
            "Requirement already satisfied: matplotlib in /usr/local/lib/python3.11/dist-packages (3.10.0)\n",
            "Collecting deap\n",
            "  Downloading deap-1.4.3-cp311-cp311-manylinux_2_5_x86_64.manylinux1_x86_64.manylinux_2_17_x86_64.manylinux2014_x86_64.whl.metadata (13 kB)\n",
            "Requirement already satisfied: numpy in /usr/local/lib/python3.11/dist-packages (2.0.2)\n",
            "Requirement already satisfied: contourpy>=1.0.1 in /usr/local/lib/python3.11/dist-packages (from matplotlib) (1.3.2)\n",
            "Requirement already satisfied: cycler>=0.10 in /usr/local/lib/python3.11/dist-packages (from matplotlib) (0.12.1)\n",
            "Requirement already satisfied: fonttools>=4.22.0 in /usr/local/lib/python3.11/dist-packages (from matplotlib) (4.58.4)\n",
            "Requirement already satisfied: kiwisolver>=1.3.1 in /usr/local/lib/python3.11/dist-packages (from matplotlib) (1.4.8)\n",
            "Requirement already satisfied: packaging>=20.0 in /usr/local/lib/python3.11/dist-packages (from matplotlib) (24.2)\n",
            "Requirement already satisfied: pillow>=8 in /usr/local/lib/python3.11/dist-packages (from matplotlib) (11.2.1)\n",
            "Requirement already satisfied: pyparsing>=2.3.1 in /usr/local/lib/python3.11/dist-packages (from matplotlib) (3.2.3)\n",
            "Requirement already satisfied: python-dateutil>=2.7 in /usr/local/lib/python3.11/dist-packages (from matplotlib) (2.9.0.post0)\n",
            "Requirement already satisfied: six>=1.5 in /usr/local/lib/python3.11/dist-packages (from python-dateutil>=2.7->matplotlib) (1.17.0)\n",
            "Downloading deap-1.4.3-cp311-cp311-manylinux_2_5_x86_64.manylinux1_x86_64.manylinux_2_17_x86_64.manylinux2014_x86_64.whl (135 kB)\n",
            "\u001b[2K   \u001b[90m━━━━━━━━━━━━━━━━━━━━━━━━━━━━━━━━━━━━━━━━\u001b[0m \u001b[32m135.6/135.6 kB\u001b[0m \u001b[31m3.4 MB/s\u001b[0m eta \u001b[36m0:00:00\u001b[0m\n",
            "\u001b[?25hInstalling collected packages: deap\n",
            "Successfully installed deap-1.4.3\n"
          ]
        }
      ],
      "source": [
        "# Install necessary packages\n",
        "!pip install matplotlib deap numpy\n"
      ]
    },
    {
      "cell_type": "code",
      "source": [
        "import random\n",
        "import numpy as np\n",
        "import matplotlib.pyplot as plt\n",
        "from deap import base, creator, tools, algorithms\n"
      ],
      "metadata": {
        "id": "S261wg7Bxyjb"
      },
      "execution_count": 3,
      "outputs": []
    },
    {
      "cell_type": "code",
      "source": [
        "# How many places to visit (not counting the depot)\n",
        "num_locations = 10\n",
        "\n",
        "# How many vehicles will do the deliveries\n",
        "num_vehicles = 3\n",
        "\n",
        "# Random locations on a 100x100 grid\n",
        "locations = [(random.randint(0, 100), random.randint(0, 100)) for _ in range(num_locations)]\n",
        "\n",
        "# Depot at the center\n",
        "depot = (50, 50)\n",
        "\n",
        "# Show depot and all locations\n",
        "print(\"Depot:\", depot)\n",
        "print(\"Locations:\", locations)\n"
      ],
      "metadata": {
        "colab": {
          "base_uri": "https://localhost:8080/"
        },
        "id": "Tl7R1Ax4ymgf",
        "outputId": "64764a6e-137d-4c3e-bc48-da01da420a7c"
      },
      "execution_count": 4,
      "outputs": [
        {
          "output_type": "stream",
          "name": "stdout",
          "text": [
            "Depot: (50, 50)\n",
            "Locations: [(65, 98), (21, 10), (34, 79), (48, 1), (50, 49), (26, 37), (17, 26), (69, 7), (49, 41), (92, 71)]\n"
          ]
        }
      ]
    },
    {
      "cell_type": "code",
      "source": [
        "plt.figure(figsize=(6, 6))\n",
        "x, y = zip(*locations)\n",
        "plt.scatter(x, y, c='blue', label='Locations')\n",
        "plt.scatter(*depot, c='red', marker='s', s=100, label='Depot')\n",
        "plt.title('Randomly Generated Locations and Depot')\n",
        "plt.xlabel('X')\n",
        "plt.ylabel('Y')\n",
        "plt.legend()\n",
        "plt.show()\n"
      ],
      "metadata": {
        "colab": {
          "base_uri": "https://localhost:8080/",
          "height": 564
        },
        "id": "qZSobhx2zLXT",
        "outputId": "eec9c2c4-af23-458f-e81f-0e316f4f96b0"
      },
      "execution_count": 5,
      "outputs": [
        {
          "output_type": "display_data",
          "data": {
            "text/plain": [
              "<Figure size 600x600 with 1 Axes>"
            ],
            "image/png": "[encoded data removed]"
          },
          "metadata": {}
        }
      ]
    },
    {
      "cell_type": "code",
      "source": [
        "# The fitness function will try to keep total distance low and routes balanced\n",
        "creator.create(\"FitnessMin\", base.Fitness, weights=(-1.0, -1.0))  # Lower is better for both goals\n",
        "creator.create(\"Individual\", list, fitness=creator.FitnessMin)    # Each solution is just a list of locations\n",
        "\n",
        "toolbox = base.Toolbox()\n",
        "\n",
        "# Each individual is a random order of all the locations\n",
        "toolbox.register(\"indices\", random.sample, range(num_locations), num_locations)\n",
        "\n",
        "# This sets up how to make a single solution and a whole group (population) of solutions\n",
        "toolbox.register(\"individual\", tools.initIterate, creator.Individual, toolbox.indices)\n",
        "toolbox.register(\"population\", tools.initRepeat, list, toolbox.individual)\n",
        "\n",
        "# This function checks how good a solution is\n",
        "def evalVRP(individual):\n",
        "    total_distance = 0\n",
        "    distances = []\n",
        "    for i in range(num_vehicles):\n",
        "        # Each vehicle gets its own route, starting and ending at the depot\n",
        "        vehicle_route = [depot] + [locations[individual[j]] for j in range(i, len(individual), num_vehicles)] + [depot]\n",
        "        # Add up the distance for this route\n",
        "        vehicle_distance = sum(np.linalg.norm(np.array(vehicle_route[k+1]) - np.array(vehicle_route[k])) for k in range(len(vehicle_route)-1))\n",
        "        total_distance += vehicle_distance\n",
        "        distances.append(vehicle_distance)\n",
        "    # If all vehicles travel similar distances, that's better (lower std deviation)\n",
        "    balance_penalty = np.std(distances)\n",
        "    return total_distance, balance_penalty\n",
        "\n",
        "# Register the functions that handle evaluation and making new solutions\n",
        "toolbox.register(\"evaluate\", evalVRP)\n",
        "toolbox.register(\"mate\", tools.cxPartialyMatched)  # Mixes routes from two solutions\n",
        "toolbox.register(\"mutate\", tools.mutShuffleIndexes, indpb=0.05)  # Small random swaps in a route\n",
        "toolbox.register(\"select\", tools.selTournament, tournsize=3)  # Picks the best from random groups\n",
        "\n",
        "print(\"Genetic algorithm structure set up successfully.\")\n"
      ],
      "metadata": {
        "id": "xCA39Uhr1JU9",
        "outputId": "0ebd4029-74ca-4a60-ad9d-e55fda9a54e6",
        "colab": {
          "base_uri": "https://localhost:8080/"
        }
      },
      "execution_count": 6,
      "outputs": [
        {
          "output_type": "stream",
          "name": "stdout",
          "text": [
            "Genetic algorithm structure set up successfully.\n"
          ]
        }
      ]
    }
  ]
}